{
 "cells": [
  {
   "cell_type": "markdown",
   "metadata": {},
   "source": [
    "# Point-Spread Deconvolution of SDO/AIA images\n",
    "## Mark Cheung, cheung@lmsal.com\n",
    "### Lessons learned here\n",
    "1. How to query JSOC for an SDO/AIA level 1 EUV image.\n",
    "2. How to load the header and the image from the compressed FITS file, and cutout a portion of the image.\n",
    "3. How to remove the point-spread function on a level 1 image cutout, and compare before / after."
   ]
  },
  {
   "cell_type": "code",
   "execution_count": 1,
   "metadata": {},
   "outputs": [],
   "source": [
    "from astropy.io import fits\n",
    "import matplotlib.pyplot as plt\n",
    "import numpy as np\n",
    "from IPython.display import clear_output\n",
    "from aia_sparse_deconvolve import *\n",
    "from sklearn import linear_model\n",
    "import drms\n",
    "import os"
   ]
  },
  {
   "cell_type": "markdown",
   "metadata": {},
   "source": [
    "### Query the SDO Joint Science Operations Center (JSOC) for some AIA images"
   ]
  },
  {
   "cell_type": "code",
   "execution_count": 2,
   "metadata": {},
   "outputs": [
    {
     "name": "stdout",
     "output_type": "stream",
     "text": [
      "       type units       protocol  dims                    note\n",
      "name                                                          \n",
      "image   int  None  link via lev1  None       AIA level 1 image\n",
      "spikes  int  None  link via lev1  None  Cosmic ray information\n",
      "['http://jsoc.stanford.edu/SUM78/D137194136/S00000/image_lev1.fits', 'http://jsoc.stanford.edu/SUM74/D137194134/S00000/image_lev1.fits', 'http://jsoc.stanford.edu/SUM80/D137194351/S00000/image_lev1.fits', 'http://jsoc.stanford.edu/SUM74/D137194392/S00000/image_lev1.fits', 'http://jsoc.stanford.edu/SUM79/D137194429/S00000/image_lev1.fits']\n"
     ]
    },
    {
     "name": "stderr",
     "output_type": "stream",
     "text": [
      "//anaconda/envs/sdo2018/lib/python3.6/site-packages/drms/client.py:1089: FutureWarning: from_items is deprecated. Please use DataFrame.from_dict(dict(items), ...) instead. DataFrame.from_dict(OrderedDict(items)) may be used to preserve the key order.\n",
      "  res_key = pd.DataFrame.from_items(zip(names, values))\n",
      "//anaconda/envs/sdo2018/lib/python3.6/site-packages/drms/client.py:1100: FutureWarning: from_items is deprecated. Please use DataFrame.from_dict(dict(items), ...) instead. DataFrame.from_dict(OrderedDict(items)) may be used to preserve the key order.\n",
      "  res_seg = pd.DataFrame.from_items(zip(names, values))\n"
     ]
    }
   ],
   "source": [
    "jsoc = drms.Client()\n",
    "ds = jsoc.series(r\"aia.lev1_euv_12s\")\n",
    "si = jsoc.info(ds[0])\n",
    "print(si.segments)\n",
    "wavelnth = 131\n",
    "k, s = jsoc.query('{0:s}[2011-02-15T02:30/1m][WAVELNTH = {1:03d}]'.format(ds[0],wavelnth),key='DATE',seg='image')\n",
    "files = ['http://jsoc.stanford.edu'+image for image in s.image]\n",
    "print(files)\n",
    "\n",
    "#Alternatively search for files on the local filesystem\n",
    "#import glob\n",
    "#files = glob.glob(\"/Users/cheung/AIA/ValentinesDayFlare_ribbons/*.*131*.fits\")\n",
    "#files = glob.glob(\"/Users/cheung/AIA/GST/*.*171*.fits\")"
   ]
  },
  {
   "cell_type": "markdown",
   "metadata": {},
   "source": [
    "### Set size of image cutout, and load corresponding Point Spread Function (PSF).\n",
    "### For the time being, PSF files for 192x192 cutouts available."
   ]
  },
  {
   "cell_type": "code",
   "execution_count": 6,
   "metadata": {},
   "outputs": [],
   "source": [
    "# Image cutout size and center \n",
    "nx = int(192) \n",
    "ny = int(192) \n",
    "bit_depth = 14.0\n",
    "\n",
    "prefix = \"psf_sparse_entrance_filter_only\" # This PSF doesn't include CCD charge-spreading\n",
    "#prefix = \"psf_sparse\" # This PSF includes CCD charge-spreading\n",
    "pfile = \"./response/PSF/{0}_{1:03d}_{2:03d}x{3:03d}.npz\".format(prefix,wavelnth, nx, ny)\n",
    "restore = True\n",
    "rest = np.load(pfile)\n",
    "C = rest['C'].tolist()\n",
    "# The PSF is stored in a sparse format, which will be passed on the the deconvolution routine.\n",
    "d_array = rest['d_array']\n",
    "i_array = rest['i_array']\n",
    "j_array = rest['j_array']\n",
    "\n",
    "# Cinv is the straight matrix inverse\n",
    "# The reason we convert C to dense form first is because it seems to be faster for computing Cinv\n",
    "# But for lasso it seems faster to have C in sparse form. \n",
    "# Cinv = np.linalg.inv(np.array(C.todense()))"
   ]
  },
  {
   "cell_type": "markdown",
   "metadata": {},
   "source": [
    "### Set center of cutout region, and loop through list of files. "
   ]
  },
  {
   "cell_type": "code",
   "execution_count": null,
   "metadata": {},
   "outputs": [],
   "source": [
    "ycenter=1660\n",
    "xcenter=2380\n",
    "#Format of output image names\n",
    "outfile = 'deconvolved_{0:03d}_{1:03d}.png'\n",
    "\n",
    "count=0\n",
    "for f in files:\n",
    "    dummy, b = fits.open(f)\n",
    "    b.verify('fix')\n",
    "    data = np.array(b.data.T, dtype=float)\n",
    "    h = b.header\n",
    "    exptime = h['EXPTIME']\n",
    "\n",
    "    obj = data[int(xcenter-nx/2):int(xcenter+nx/2),int(ycenter-ny/2):int(ycenter+ny/2)]\n",
    "    img = np.array(obj)\n",
    "    sat = img\n",
    "    # The next line does the PSF deconvolution\n",
    "    desat, model = sparse_deconv(sat, d_array, i_array, j_array, bit_depth,gap=0.3, alpha=1e-7)\n",
    "\n",
    "    # The following lines plot the before and after images.\n",
    "    images = (img[:,:]/exptime,  desat[:,:]/exptime)\n",
    "    colorbar_label='Log2 [DN/s]'\n",
    "    labels = ('AIA {}@{}'.format(wavelnth,h['DATE-OBS'][0:19]),'desat, exptime={0:.2f}'.format(exptime))\n",
    "    types = ('plot','plot')\n",
    "    if wavelnth == 193:\n",
    "        clim = (2,20)\n",
    "    else:\n",
    "        clim = (2,18)\n",
    "    compare_imgs(images,labels,types,clim=clim, cmap='nipy_spectral',\n",
    "                 savefig=outfile.format(wavelnth,count),\n",
    "                 colorbar_label=colorbar_label)\n",
    "    count+=1\n"
   ]
  },
  {
   "cell_type": "code",
   "execution_count": 8,
   "metadata": {},
   "outputs": [],
   "source": [
    "#nx = 192\n",
    "#ny = 192\n",
    "#for wavelnth in (94,131,171,193,211,335,304):\n",
    "#    pfile = \"/Users/cheung/AIA/weber_psfs_rc/psf_sparse_{0:03d}_{1:03d}x{2:03d}.npz\".format(wavelnth, nx, ny)\n",
    "#    C, d_array, i_array, j_array = read_psf(wavelnth,(nx,ny),dir='/Users/cheung/AIA/weber_psfs_rc') \n",
    "#    np.savez_compressed(pfile,C=C, d_array=d_array, i_array=i_array, j_array=j_array, nx=nx, ny=ny)"
   ]
  },
  {
   "cell_type": "code",
   "execution_count": 9,
   "metadata": {},
   "outputs": [],
   "source": [
    "#nx = 192\n",
    "#ny = 192\n",
    "#for wavelnth in (94,131,171,193,211,335,304):\n",
    "#    pfile = \"/Users/cheung/AIA/weber_psfs_rc/psf_sparse_entrance_filter_only_{0:03d}_{1:03d}x{2:03d}.npz\".format(wavelnth, nx, ny)\n",
    "#    C, d_array, i_array, j_array = read_psf(wavelnth,(nx,ny),dir='/Users/cheung/AIA/weber_psfs_rc', nocore=True) \n",
    "#    np.savez_compressed(pfile,C=C, d_array=d_array, i_array=i_array, j_array=j_array, nx=nx, ny=ny)"
   ]
  },
  {
   "cell_type": "code",
   "execution_count": null,
   "metadata": {},
   "outputs": [],
   "source": []
  }
 ],
 "metadata": {
  "kernelspec": {
   "display_name": "Python [conda env:sdo2018]",
   "language": "python",
   "name": "conda-env-sdo2018-py"
  },
  "language_info": {
   "codemirror_mode": {
    "name": "ipython",
    "version": 3
   },
   "file_extension": ".py",
   "mimetype": "text/x-python",
   "name": "python",
   "nbconvert_exporter": "python",
   "pygments_lexer": "ipython3",
   "version": "3.6.7"
  }
 },
 "nbformat": 4,
 "nbformat_minor": 2
}
