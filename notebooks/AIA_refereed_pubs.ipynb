{
 "cells": [
  {
   "cell_type": "code",
   "execution_count": 212,
   "metadata": {
    "collapsed": false
   },
   "outputs": [],
   "source": [
    "#import sys\n",
    "#sys.setdefaultencoding(\"utf-8\")\n",
    "import xmltodict\n",
    "import requests \n",
    "\n",
    "def loadSDOAbstracts(): \n",
    "    # url of rss feed \n",
    "    url = 'http://adsabs.harvard.edu/cgi-bin/nph-abs_connect?db_key=AST&db_key=PRE&qform=AST&arxiv_sel=astro-ph&arxiv_sel=cond-mat&arxiv_sel=cs&arxiv_sel=gr-qc&arxiv_sel=hep-ex&arxiv_sel=hep-lat&arxiv_sel=hep-ph&arxiv_sel=hep-th&arxiv_sel=math&arxiv_sel=math-ph&arxiv_sel=nlin&arxiv_sel=nucl-ex&arxiv_sel=nucl-th&arxiv_sel=physics&arxiv_sel=quant-ph&arxiv_sel=q-bio&sim_query=YES&ned_query=YES&adsobj_query=YES&aut_logic=OR&obj_logic=OR&author=&object=&start_mon=&start_year=&end_mon=&end_year=&ttl_logic=OR&title=&txt_logic=OR&text=&nr_to_return=4000&start_nr=1&jou_pick=NO&ref_stems=&data_and=ALL&group_and=NO&group_sel=SDO&start_entry_day=&start_entry_mon=&start_entry_year=2005&end_entry_day=&end_entry_mon=&end_entry_year=&min_score=&sort=NDATE&data_type=XML&aut_syn=YES&ttl_syn=YES&txt_syn=YES&aut_wt=1.0&obj_wt=1.0&ttl_wt=0.3&txt_wt=3.0&aut_wgt=YES&obj_wgt=YES&ttl_wgt=YES&txt_wgt=YES&ttl_sco=YES&txt_sco=YES&version=1'\n",
    "    # creating HTTP response object from given url \n",
    "    resp = requests.get(url) \n",
    "    # saving the xml file \n",
    "    with open('sdo_refereed_papers.xml', 'wb') as f: \n",
    "        f.write(resp.content)         \n",
    "\n",
    "loadSDOAbstracts()\n",
    "with open('./sdo_refereed_papers.xml',encoding='utf-8') as fd:\n",
    "    doc = xmltodict.parse(fd.read())\n",
    "import numpy as np"
   ]
  },
  {
   "cell_type": "code",
   "execution_count": 316,
   "metadata": {},
   "outputs": [],
   "source": [
    "def search_aia(input_abstract,keywords):\n",
    "    abstract = input_abstract.replace('\\n', ' ').lower()\n",
    "    #print(abstract)\n",
    "    for key in keywords:\n",
    "        if abstract.find(key) != -1: return True\n",
    "    return False\n",
    "\n",
    "def search_abstracts(records,keywords):\n",
    "    n = len(records)\n",
    "    result = np.zeros(shape=(n),dtype=bool)\n",
    "    for i in range(0,n):\n",
    "        if records[i]['pubdate'].find('201') != -1:\n",
    "            result[i] = search_aia(records[i]['abstract'],keywords)\n",
    "        \n",
    "    print('{} refereed SDO papers with at least one of the following keywords:{}'.format(int(result.sum()),str(keywords)))\n",
    "    return result"
   ]
  },
  {
   "cell_type": "code",
   "execution_count": 317,
   "metadata": {},
   "outputs": [
    {
     "name": "stdout",
     "output_type": "stream",
     "text": [
      "770 refereed SDO papers with at least one of the following keywords:['aia', 'sdo/aia', 'atmospheric imaging assembly']\n",
      "1129 refereed SDO papers with at least one of the following keywords:['euv', 'extreme ultraviolet', 'extreme ultra violet', 'aia', 'sdo/aia', 'atmospheric imaging assembly']\n",
      "1210 refereed SDO papers with at least one of the following keywords:['euv', 'extreme ultraviolet', 'extreme ultra violet', 'aia', 'sdo/aia', 'atmospheric imaging assembly', '1600', '1700', '94', '131', '171', '193', '211', '304', '335']\n",
      "1834 refereed SDO papers with at least one of the following keywords:['euv', 'extreme ultraviolet', 'extreme ultra violet', 'aia', 'sdo/aia', 'atmospheric imaging assembly', '1600', '1700', '94', '131', '171', '193', '211', '304', '335', 'spicule', 'flare', 'cme', 'coronal hole']\n",
      "2199 refereed SDO papers with at least one of the following keywords:['euv', 'extreme ultraviolet', 'extreme ultra violet', 'aia', 'sdo/aia', 'atmospheric imaging assembly', 'spicule', 'jet', 'prominence', 'filament', 'filament eruption', 'flare', 'corona', 'cme', 'iris', 'coronal hole', '1600', '1700', '94', '131', '171', '193', '211', '304', '335']\n"
     ]
    },
    {
     "data": {
      "text/plain": [
       "array([ True,  True,  True, ..., False, False, False])"
      ]
     },
     "execution_count": 317,
     "metadata": {},
     "output_type": "execute_result"
    }
   ],
   "source": [
    "keywords = ['aia','sdo/aia','atmospheric imaging assembly']\n",
    "search_abstracts(doc['records']['record'],keywords)\n",
    "\n",
    "keywords = ['euv','extreme ultraviolet','extreme ultra violet','aia','sdo/aia','atmospheric imaging assembly']\n",
    "search_abstracts(doc['records']['record'],keywords)\n",
    "\n",
    "keywords = ['euv','extreme ultraviolet','extreme ultra violet','aia','sdo/aia','atmospheric imaging assembly',\n",
    "            '1600', '1700','94','131','171','193','211','304','335']\n",
    "search_abstracts(doc['records']['record'],keywords)\n",
    "\n",
    "keywords = ['euv','extreme ultraviolet','extreme ultra violet','aia','sdo/aia','atmospheric imaging assembly',\n",
    "            '1600', '1700','94','131','171','193','211','304','335','spicule','flare','cme','coronal hole']\n",
    "search_abstracts(doc['records']['record'],keywords)\n",
    "\n",
    "keywords = ['euv','extreme ultraviolet','extreme ultra violet','aia','sdo/aia','atmospheric imaging assembly',\n",
    "            'spicule','jet', 'prominence', 'filament','filament eruption','flare','corona', 'cme','iris','coronal hole',\n",
    "            '1600', '1700','94','131','171','193','211','304','335']\n",
    "search_abstracts(doc['records']['record'],keywords)\n",
    "\n",
    "\n"
   ]
  },
  {
   "cell_type": "code",
   "execution_count": 400,
   "metadata": {},
   "outputs": [
    {
     "name": "stdout",
     "output_type": "stream",
     "text": [
      "44 refereed SDO papers with at least one of the following keywords:['new solar telescope', 'goode']\n",
      "2199 refereed SDO papers with at least one of the following keywords:['euv', 'extreme ultraviolet', 'extreme ultra violet', 'aia', 'sdo/aia', 'atmospheric imaging assembly', 'spicule', 'jet', 'prominence', 'filament', 'filament eruption', 'flare', 'corona', 'cme', 'iris', 'coronal hole', '1600', '1700', '94', '131', '171', '193', '211', '304', '335']\n",
      "96 refereed SDO papers with at least one of the following keywords:['iris']\n"
     ]
    }
   ],
   "source": [
    "keywords = ['new solar telescope','goode']\n",
    "select=search_abstracts(doc['records']['record'],keywords)\n",
    "keywords = ['euv','extreme ultraviolet','extreme ultra violet','aia','sdo/aia','atmospheric imaging assembly',\n",
    "            'spicule','jet', 'prominence', 'filament','filament eruption','flare','corona', 'cme','iris','coronal hole',\n",
    "            '1600', '1700','94','131','171','193','211','304','335']\n",
    "select=(search_abstracts(doc['records']['record'],keywords))*select\n",
    "keywords = ['iris']\n",
    "select=(search_abstracts(doc['records']['record'],keywords))*select\n",
    "nst = np.array(doc['records']['record'])[select]"
   ]
  },
  {
   "cell_type": "code",
   "execution_count": 401,
   "metadata": {},
   "outputs": [
    {
     "name": "stdout",
     "output_type": "stream",
     "text": [
      "Multi-wavelength Study of Transition Region Penumbral Subarcsecond Bright Dots Using IRIS and NST, Deng, Na et al. 2016\n",
      "Multi-wavelength Observations of a Subarcsecond Penumbral Transient Brightening Event, Bai, X. Y. et al. 2016\n",
      "Oscillatory Response of the Solar Chromosphere to a Strong Downflow Event above a Sunspot, Kwak, Hannah et al. 2016\n",
      "Multiwavelength Observations of a Slow-rise, Multistep X1.6 Flare and the Associated Eruption, Yurchyshyn, V. et al. 2015\n",
      "Simultaneous observation of a hot explosion by NST and IRIS, Kim, Yeon-Han et al. 2015\n",
      "Properties of Chromospheric Evaporation and Plasma Dynamics of a Solar Flare from Iris, Sadykov, Viacheslav M. et al. 2015\n",
      "Dynamics in Sunspot Umbra as Seen in New Solar Telescope and Interface Region Imaging Spectrograph Data, Yurchyshyn, V. et al. 2015\n",
      "Multi-wavelength High-resolution Observations of a Small-scale Emerging Magnetic Flux Event and the Chromospheric and Coronal Response, Vargas Domínguez, Santiago et al. 2014\n"
     ]
    },
    {
     "data": {
      "text/html": [
       "<div>\n",
       "<style scoped>\n",
       "    .dataframe tbody tr th:only-of-type {\n",
       "        vertical-align: middle;\n",
       "    }\n",
       "\n",
       "    .dataframe tbody tr th {\n",
       "        vertical-align: top;\n",
       "    }\n",
       "\n",
       "    .dataframe thead th {\n",
       "        text-align: right;\n",
       "    }\n",
       "</style>\n",
       "<table border=\"1\" class=\"dataframe\">\n",
       "  <thead>\n",
       "    <tr style=\"text-align: right;\">\n",
       "      <th></th>\n",
       "      <th>titles</th>\n",
       "      <th>authors</th>\n",
       "      <th>citations</th>\n",
       "      <th>pubdates</th>\n",
       "      <th>journals</th>\n",
       "      <th>abstracts</th>\n",
       "      <th>urls</th>\n",
       "    </tr>\n",
       "  </thead>\n",
       "  <tbody>\n",
       "    <tr>\n",
       "      <th>4</th>\n",
       "      <td>Simultaneous observation of a hot explosion by...</td>\n",
       "      <td>Kim, Yeon-Han et al.</td>\n",
       "      <td>24</td>\n",
       "      <td>Sep 2015</td>\n",
       "      <td>The Astrophysical Journal, Volume 810, Issue 1...</td>\n",
       "      <td>We present the first simultaneous observations...</td>\n",
       "      <td>http://adsabs.harvard.edu/abs/2015ApJ...810...38K</td>\n",
       "    </tr>\n",
       "    <tr>\n",
       "      <th>5</th>\n",
       "      <td>Properties of Chromospheric Evaporation and Pl...</td>\n",
       "      <td>Sadykov, Viacheslav M. et al.</td>\n",
       "      <td>22</td>\n",
       "      <td>Jun 2015</td>\n",
       "      <td>The Astrophysical Journal, Volume 805, Issue 2...</td>\n",
       "      <td>The dynamics of hot chromospheric plasma of so...</td>\n",
       "      <td>http://adsabs.harvard.edu/abs/2015ApJ...805..167S</td>\n",
       "    </tr>\n",
       "    <tr>\n",
       "      <th>6</th>\n",
       "      <td>Dynamics in Sunspot Umbra as Seen in New Solar...</td>\n",
       "      <td>Yurchyshyn, V. et al.</td>\n",
       "      <td>17</td>\n",
       "      <td>Jan 2015</td>\n",
       "      <td>The Astrophysical Journal, Volume 798, Issue 2...</td>\n",
       "      <td>We analyze sunspot oscillations using Interfac...</td>\n",
       "      <td>http://adsabs.harvard.edu/abs/2015ApJ...798..136Y</td>\n",
       "    </tr>\n",
       "    <tr>\n",
       "      <th>0</th>\n",
       "      <td>Multi-wavelength Study of Transition Region Pe...</td>\n",
       "      <td>Deng, Na et al.</td>\n",
       "      <td>11</td>\n",
       "      <td>Oct 2016</td>\n",
       "      <td>The Astrophysical Journal, Volume 829, Issue 2...</td>\n",
       "      <td>Using high-resolution transition region (TR) o...</td>\n",
       "      <td>http://adsabs.harvard.edu/abs/2016ApJ...829..103D</td>\n",
       "    </tr>\n",
       "    <tr>\n",
       "      <th>2</th>\n",
       "      <td>Oscillatory Response of the Solar Chromosphere...</td>\n",
       "      <td>Kwak, Hannah et al.</td>\n",
       "      <td>10</td>\n",
       "      <td>Apr 2016</td>\n",
       "      <td>The Astrophysical Journal Letters, Volume 821,...</td>\n",
       "      <td>We report three-minute oscillations in the sol...</td>\n",
       "      <td>http://adsabs.harvard.edu/abs/2016ApJ...821L..30K</td>\n",
       "    </tr>\n",
       "    <tr>\n",
       "      <th>7</th>\n",
       "      <td>Multi-wavelength High-resolution Observations ...</td>\n",
       "      <td>Vargas Domínguez, Santiago et al.</td>\n",
       "      <td>10</td>\n",
       "      <td>Oct 2014</td>\n",
       "      <td>The Astrophysical Journal, Volume 794, Issue 2...</td>\n",
       "      <td>State-of-the-art solar instrumentation is now ...</td>\n",
       "      <td>http://adsabs.harvard.edu/abs/2014ApJ...794..140V</td>\n",
       "    </tr>\n",
       "    <tr>\n",
       "      <th>1</th>\n",
       "      <td>Multi-wavelength Observations of a Subarcsecon...</td>\n",
       "      <td>Bai, X. Y. et al.</td>\n",
       "      <td>7</td>\n",
       "      <td>May 2016</td>\n",
       "      <td>The Astrophysical Journal, Volume 823, Issue 1...</td>\n",
       "      <td>We report a subarcsecond penumbral transient b...</td>\n",
       "      <td>http://adsabs.harvard.edu/abs/2016ApJ...823...60B</td>\n",
       "    </tr>\n",
       "    <tr>\n",
       "      <th>3</th>\n",
       "      <td>Multiwavelength Observations of a Slow-rise, M...</td>\n",
       "      <td>Yurchyshyn, V. et al.</td>\n",
       "      <td>4</td>\n",
       "      <td>Oct 2015</td>\n",
       "      <td>The Astrophysical Journal, Volume 812, Issue 2...</td>\n",
       "      <td>Using multiwavelength observations, we studied...</td>\n",
       "      <td>http://adsabs.harvard.edu/abs/2015ApJ...812..172Y</td>\n",
       "    </tr>\n",
       "  </tbody>\n",
       "</table>\n",
       "</div>"
      ],
      "text/plain": [
       "                                              titles  \\\n",
       "4  Simultaneous observation of a hot explosion by...   \n",
       "5  Properties of Chromospheric Evaporation and Pl...   \n",
       "6  Dynamics in Sunspot Umbra as Seen in New Solar...   \n",
       "0  Multi-wavelength Study of Transition Region Pe...   \n",
       "2  Oscillatory Response of the Solar Chromosphere...   \n",
       "7  Multi-wavelength High-resolution Observations ...   \n",
       "1  Multi-wavelength Observations of a Subarcsecon...   \n",
       "3  Multiwavelength Observations of a Slow-rise, M...   \n",
       "\n",
       "                             authors  citations  pubdates  \\\n",
       "4               Kim, Yeon-Han et al.         24  Sep 2015   \n",
       "5      Sadykov, Viacheslav M. et al.         22  Jun 2015   \n",
       "6              Yurchyshyn, V. et al.         17  Jan 2015   \n",
       "0                    Deng, Na et al.         11  Oct 2016   \n",
       "2                Kwak, Hannah et al.         10  Apr 2016   \n",
       "7  Vargas Domínguez, Santiago et al.         10  Oct 2014   \n",
       "1                  Bai, X. Y. et al.          7  May 2016   \n",
       "3              Yurchyshyn, V. et al.          4  Oct 2015   \n",
       "\n",
       "                                            journals  \\\n",
       "4  The Astrophysical Journal, Volume 810, Issue 1...   \n",
       "5  The Astrophysical Journal, Volume 805, Issue 2...   \n",
       "6  The Astrophysical Journal, Volume 798, Issue 2...   \n",
       "0  The Astrophysical Journal, Volume 829, Issue 2...   \n",
       "2  The Astrophysical Journal Letters, Volume 821,...   \n",
       "7  The Astrophysical Journal, Volume 794, Issue 2...   \n",
       "1  The Astrophysical Journal, Volume 823, Issue 1...   \n",
       "3  The Astrophysical Journal, Volume 812, Issue 2...   \n",
       "\n",
       "                                           abstracts  \\\n",
       "4  We present the first simultaneous observations...   \n",
       "5  The dynamics of hot chromospheric plasma of so...   \n",
       "6  We analyze sunspot oscillations using Interfac...   \n",
       "0  Using high-resolution transition region (TR) o...   \n",
       "2  We report three-minute oscillations in the sol...   \n",
       "7  State-of-the-art solar instrumentation is now ...   \n",
       "1  We report a subarcsecond penumbral transient b...   \n",
       "3  Using multiwavelength observations, we studied...   \n",
       "\n",
       "                                                urls  \n",
       "4  http://adsabs.harvard.edu/abs/2015ApJ...810...38K  \n",
       "5  http://adsabs.harvard.edu/abs/2015ApJ...805..167S  \n",
       "6  http://adsabs.harvard.edu/abs/2015ApJ...798..136Y  \n",
       "0  http://adsabs.harvard.edu/abs/2016ApJ...829..103D  \n",
       "2  http://adsabs.harvard.edu/abs/2016ApJ...821L..30K  \n",
       "7  http://adsabs.harvard.edu/abs/2014ApJ...794..140V  \n",
       "1  http://adsabs.harvard.edu/abs/2016ApJ...823...60B  \n",
       "3  http://adsabs.harvard.edu/abs/2015ApJ...812..172Y  "
      ]
     },
     "execution_count": 401,
     "metadata": {},
     "output_type": "execute_result"
    }
   ],
   "source": [
    "import pandas as pd\n",
    "titles = []\n",
    "authors= []\n",
    "citations=[]\n",
    "pubdates =[]\n",
    "journals = []\n",
    "abstracts = []\n",
    "urls = []\n",
    "for paper in nst:\n",
    "    titles.append(paper['title'])\n",
    "    authors.append(paper['author'][0]+' et al.')\n",
    "    pubdates.append(paper['pubdate'])\n",
    "    abstracts.append(paper['abstract'])\n",
    "    if 'citations' in paper.keys():\n",
    "        citations.append(int(paper['citations']))\n",
    "    else:\n",
    "        citations.append(0)\n",
    "    if 'journal' in paper.keys():\n",
    "        journals.append(paper['journal'])\n",
    "    else:\n",
    "        journals.append('')\n",
    "    if 'url' in paper.keys():\n",
    "        urls.append(paper['url'])\n",
    "    else: \n",
    "        urls.append('')\n",
    "results= {'titles':titles, 'authors':authors, 'citations':citations, 'pubdates':pubdates,\n",
    "         'journals':journals, 'abstracts':abstracts, 'urls':urls}\n",
    "gstsdo = pd.DataFrame(results)\n",
    "gstsdo = gstsdo.sort_values('citations',ascending=False)\n",
    "gstsdo\n",
    "for i in range(len(gstsdo.values[:,0])):\n",
    "    print(gstsdo['titles'][i]+', '+gstsdo['authors'][i]+' '+(gstsdo['pubdates'][i]).split(' ')[1])\n",
    "gstsdo"
   ]
  },
  {
   "cell_type": "code",
   "execution_count": 376,
   "metadata": {},
   "outputs": [],
   "source": [
    "citations=[]\n",
    "for paper in nst:\n",
    "    if 'citations' in paper.keys():\n",
    "        citations.append(int((paper['citations'])))\n",
    "    else:\n",
    "        citations.append(0)"
   ]
  },
  {
   "cell_type": "code",
   "execution_count": 377,
   "metadata": {},
   "outputs": [],
   "source": [
    "import matplotlib.pyplot as plt\n",
    "hist,edges = np.histogram(citations)"
   ]
  },
  {
   "cell_type": "code",
   "execution_count": 381,
   "metadata": {},
   "outputs": [
    {
     "name": "stdout",
     "output_type": "stream",
     "text": [
      "599\n"
     ]
    },
    {
     "data": {
      "image/png": "[encoded data removed]",
      "text/plain": [
       "<Figure size 432x288 with 1 Axes>"
      ]
     },
     "metadata": {
      "needs_background": "light"
     },
     "output_type": "display_data"
    }
   ],
   "source": [
    "plt.hist(citations)\n",
    "print(np.array(citations).sum())"
   ]
  },
  {
   "cell_type": "code",
   "execution_count": 326,
   "metadata": {},
   "outputs": [
    {
     "data": {
      "text/plain": [
       "OrderedDict([('@refereed', 'true'),\n",
       "             ('@article', 'true'),\n",
       "             ('@type', 'ARTICLE'),\n",
       "             ('bibcode', '2011ApJ...736L..35Y'),\n",
       "             ('title', 'On the Origin of Intergranular Jets'),\n",
       "             ('author',\n",
       "              ['Yurchyshyn, V. B.',\n",
       "               'Goode, P. R.',\n",
       "               'Abramenko, V. I.',\n",
       "               'Steiner, O.']),\n",
       "             ('affiliation',\n",
       "              'AA(Big Bear Solar Observatory, New Jersey Institute of Technology, Big Bear City, CA 92314, USA), AB(Big Bear Solar Observatory, New Jersey Institute of Technology, Big Bear City, CA 92314, USA), AC(Big Bear Solar Observatory, New Jersey Institute of Technology, Big Bear City, CA 92314, USA), AD(Kiepenheuer-Institut für Sonnenphysik, Schöneckstrasse 6, D-79104 Freiburg, Germany)'),\n",
       "             ('journal',\n",
       "              'The Astrophysical Journal Letters, Volume 736, Issue 2, article id. L35, 6 pp. (2011).'),\n",
       "             ('volume', '736'),\n",
       "             ('pubdate', 'Aug 2011'),\n",
       "             ('page', 'L35'),\n",
       "             ('keywords',\n",
       "              OrderedDict([('@type', 'Astronomy'),\n",
       "                           ('keyword',\n",
       "                            ['Sun: chromosphere', 'Sun: photosphere'])])),\n",
       "             ('origin', 'IOP'),\n",
       "             ('link',\n",
       "              [OrderedDict([('@type', 'ABSTRACT'),\n",
       "                            ('name', 'Abstract'),\n",
       "                            ('url',\n",
       "                             'http://adsabs.harvard.edu/cgi-bin/nph-data_query?bibcode=2011ApJ...736L..35Y&link_type=ABSTRACT')]),\n",
       "               OrderedDict([('@type', 'EJOURNAL'),\n",
       "                            ('@access', 'open'),\n",
       "                            ('name', 'Electronic On-line Article (HTML)'),\n",
       "                            ('url',\n",
       "                             'http://adsabs.harvard.edu/cgi-bin/nph-data_query?bibcode=2011ApJ...736L..35Y&link_type=EJOURNAL')]),\n",
       "               OrderedDict([('@type', 'ARTICLE'),\n",
       "                            ('@access', 'open'),\n",
       "                            ('name',\n",
       "                             'Full Printable Article (PDF/Postscript)'),\n",
       "                            ('url',\n",
       "                             'http://adsabs.harvard.edu/cgi-bin/nph-data_query?bibcode=2011ApJ...736L..35Y&link_type=ARTICLE')]),\n",
       "               OrderedDict([('@type', 'PREPRINT'),\n",
       "                            ('@access', 'open'),\n",
       "                            ('name', 'arXiv e-print'),\n",
       "                            ('url',\n",
       "                             'http://adsabs.harvard.edu/cgi-bin/nph-data_query?bibcode=2011ApJ...736L..35Y&link_type=PREPRINT')]),\n",
       "               OrderedDict([('@type', 'REFERENCES'),\n",
       "                            ('name', 'References in the Article'),\n",
       "                            ('url',\n",
       "                             'http://adsabs.harvard.edu/cgi-bin/nph-data_query?bibcode=2011ApJ...736L..35Y&link_type=REFERENCES'),\n",
       "                            ('count', '20')]),\n",
       "               OrderedDict([('@type', 'CITATIONS'),\n",
       "                            ('name', 'Citations to the Article'),\n",
       "                            ('url',\n",
       "                             'http://adsabs.harvard.edu/cgi-bin/nph-data_query?bibcode=2011ApJ...736L..35Y&link_type=CITATIONS'),\n",
       "                            ('count', '15')]),\n",
       "               OrderedDict([('@type', 'REFCIT'),\n",
       "                            ('name', 'Refereed Citations to the Article'),\n",
       "                            ('url',\n",
       "                             'http://adsabs.harvard.edu/cgi-bin/nph-data_query?bibcode=2011ApJ...736L..35Y&link_type=REFCIT')]),\n",
       "               OrderedDict([('@type', 'AR'),\n",
       "                            ('name', 'Also-Read Articles'),\n",
       "                            ('url',\n",
       "                             'http://adsabs.harvard.edu/cgi-bin/nph-data_query?bibcode=2011ApJ...736L..35Y&link_type=AR')])]),\n",
       "             ('url', 'http://adsabs.harvard.edu/abs/2011ApJ...736L..35Y'),\n",
       "             ('citations', '15'),\n",
       "             ('abstract',\n",
       "              'We observe that intergranular jets, originating in the intergranular\\nspace surrounding individual granules, tend to be associated with\\ngranular fragmentation, in particular, with the formation and evolution\\nof a bright granular lane (BGL) within individual granules. The BGLs\\nhave recently been identified as vortex tubes by Steiner et al. We\\nfurther discover the development of a well-defined bright grain located\\nbetween the BGL and the dark intergranular lane to which it is\\nconnected. Signatures of a BGL may reach the lower chromosphere and can\\nbe detected in off-band Hα images. Simulations also indicate that\\nvortex tubes are frequently associated with small-scale magnetic fields.\\nWe speculate that the intergranular jets detected in the New Solar\\nTelescope (NST) data may result from the interaction between the\\nturbulent small-scale fields associated with the vortex tube and the\\nlarger-scale fields existing in the intergranular lanes. The\\nintergranular jets are much smaller and weaker than all previously known\\njet-like events. At the same time, they appear much more numerous than\\nthe larger events, leading us to the speculation that the total energy\\nrelease and mass transport by these tiny events may not be negligible in\\nthe energy and mass-flux balance near the temperature minimum atop the\\nphotosphere. The study is based on the photospheric TiO broadband (1.0\\nnm) filter data acquired with the 1.6 m NST operating at the Big Bear\\nSolar Observatory. The data set also includes NST off-band Hα\\nimages collected through a Zeiss Lyot filter with a passband of 0.025\\nnm.'),\n",
       "             ('DOI', '10.1088/2041-8205/736/2/L35'),\n",
       "             ('eprintid', 'arXiv:1106.5535')])"
      ]
     },
     "execution_count": 326,
     "metadata": {},
     "output_type": "execute_result"
    }
   ],
   "source": [
    "paper"
   ]
  },
  {
   "cell_type": "code",
   "execution_count": 374,
   "metadata": {},
   "outputs": [
    {
     "data": {
      "text/plain": [
       "array(['Study of Two Successive Three-ribbon Solar Flares on 2012 July 6',\n",
       "       'Wang, Haimin et al.', 28, 'Jan 2014',\n",
       "       'The Astrophysical Journal Letters, Volume 781, Issue 1, article id. L23, 7 pp. (2014).',\n",
       "       'This Letter reports two rarely observed three-ribbon flares (M1.9 and\\nC9.2) on 2012 July 6 in NOAA AR 11515, which we found using Hα\\nobservations of 0.\\'\\'1 resolution from the New Solar Telescope and Ca II\\nH images from Hinode. The flaring site is characterized by an intriguing\\n\"fish-bone-like\" morphology evidenced by both Hα images and a\\nnonlinear force-free field (NLFFF) extrapolation, where two\\nsemi-parallel rows of low-lying, sheared loops connect an elongated,\\nparasitic negative field with the sandwiching positive fields. The NLFFF\\nmodel also shows that the two rows of loops are asymmetric in height and\\nhave opposite twists, and are enveloped by large-scale field lines\\nincluding open fields. The two flares occurred in succession within half\\nan hour and are located at the two ends of the flaring region. The three\\nribbons of each flare run parallel to the magnetic polarity inversion\\nline, with the outer two lying in the positive field and the central one\\nin the negative field. Both flares show surge-like flows in Hα\\napparently toward the remote region, while the C9.2 flare is also\\naccompanied by EUV jets possibly along the open field lines.\\nInterestingly, the 12-25 keV hard X-ray sources of the C9.2 flare first\\nline up with the central ribbon then shift to concentrate on the top of\\nthe higher branch of loops. These results are discussed in favor of\\nreconnection along the coronal null line, producing the three flare\\nribbons and the associated ejections.',\n",
       "       'http://adsabs.harvard.edu/abs/2014ApJ...781L..23W'], dtype=object)"
      ]
     },
     "execution_count": 374,
     "metadata": {},
     "output_type": "execute_result"
    }
   ],
   "source": [
    "gstsdo.values[3,:]"
   ]
  },
  {
   "cell_type": "code",
   "execution_count": 352,
   "metadata": {},
   "outputs": [
    {
     "data": {
      "text/plain": [
       "'http://adsabs.harvard.edu/abs/2011ApJ...736L..35Y'"
      ]
     },
     "execution_count": 352,
     "metadata": {},
     "output_type": "execute_result"
    }
   ],
   "source": [
    "paper['url']"
   ]
  },
  {
   "cell_type": "code",
   "execution_count": null,
   "metadata": {},
   "outputs": [],
   "source": []
  }
 ],
 "metadata": {
  "anaconda-cloud": {},
  "kernelspec": {
   "display_name": "Python [conda env:sdo2018]",
   "language": "python",
   "name": "conda-env-sdo2018-py"
  },
  "language_info": {
   "codemirror_mode": {
    "name": "ipython",
    "version": 3
   },
   "file_extension": ".py",
   "mimetype": "text/x-python",
   "name": "python",
   "nbconvert_exporter": "python",
   "pygments_lexer": "ipython3",
   "version": "3.6.7"
  }
 },
 "nbformat": 4,
 "nbformat_minor": 2
}
